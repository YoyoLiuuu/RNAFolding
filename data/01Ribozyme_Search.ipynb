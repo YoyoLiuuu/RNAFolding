{
 "cells": [
  {
   "cell_type": "markdown",
   "id": "f9f7b502-e718-4463-b999-93d9d6ac18b0",
   "metadata": {},
   "source": [
    "# Ribozyme Search Creating the Models"
   ]
  },
  {
   "cell_type": "markdown",
   "id": "bc32aaeb",
   "metadata": {},
   "source": [
    "## Combining all the fasta Files from the ambivirus paper's [viroid-like circles file](https://github.com/ababaian/serratus/wiki/assets/ambi/viroid-like_circles.tar.gz)"
   ]
  },
  {
   "cell_type": "markdown",
   "id": "111e1086",
   "metadata": {},
   "source": [
    "```awk '/^>/{p=seen[$0]++}!p' test.fasta test2.fasta > test3.fasta```"
   ]
  },
  {
   "cell_type": "code",
   "execution_count": null,
   "id": "72179c85",
   "metadata": {},
   "outputs": [],
   "source": [
    "awk '/^>/{p=seen[$0]++}!p' /Users/puravgupta/Downloads/viroid-like_circles/DVR4+hairpin-meta.fa /Users/puravgupta/Downloads/viroid-like_circles/DVR4+hairpin-meta.id90.fa /Users/puravgupta/Downloads/viroid-like_circles/DVR4+hhr_all_270322.fa /Users/puravgupta/Downloads/viroid-like_circles/DVR4+hhr_all_270322.id90.fa /Users/puravgupta/Downloads/viroid-like_circles/DVR4.fa /Users/puravgupta/Downloads/viroid-like_circles/DVR4.id90.fa /Users/puravgupta/Downloads/viroid-like_circles/Hammerhead_II+hhr_all_270322.fa /Users/puravgupta/Downloads/viroid-like_circles/Hammerhead_II+hhr_all_270322.id90.fa /Users/puravgupta/Downloads/viroid-like_circles/Hammerhead_II+new_hhr7.fa /Users/puravgupta/Downloads/viroid-like_circles/Hammerhead_II+new_hhr7.id90.fa /Users/puravgupta/Downloads/viroid-like_circles/Hammerhead_II+twister-P1.fa /Users/puravgupta/Downloads/viroid-like_circles/Hammerhead_II+twister-P1.id90.fa /Users/puravgupta/Downloads/viroid-like_circles/Hammerhead_II.fa /Users/puravgupta/Downloads/viroid-like_circles/Hammerhead_II.id90.fa /Users/puravgupta/Downloads/viroid-like_circles/hairpin-meta+hhr_all_270322.fa /Users/puravgupta/Downloads/viroid-like_circles/hairpin-meta+hhr_all_270322.id90.fa /Users/puravgupta/Downloads/viroid-like_circles/hairpin-meta+new_vs5.fa /Users/puravgupta/Downloads/viroid-like_circles/hairpin-meta+new_vs5.id90.fa /Users/puravgupta/Downloads/viroid-like_circles/hairpin-meta+twister-P1.fa /Users/puravgupta/Downloads/viroid-like_circles/hairpin-meta+twister-P1.id90.fa /Users/puravgupta/Downloads/viroid-like_circles/hairpin-meta.fa /Users/puravgupta/Downloads/viroid-like_circles/hairpin-meta.id90.fa /Users/puravgupta/Downloads/viroid-like_circles/hhr_all_270322+new_hhr7.fa /Users/puravgupta/Downloads/viroid-like_circles/hhr_all_270322+new_hhr7.id90.fa /Users/puravgupta/Downloads/viroid-like_circles/hhr_all_270322+new_vs5.fa /Users/puravgupta/Downloads/viroid-like_circles/hhr_all_270322+new_vs5.id90.fa /Users/puravgupta/Downloads/viroid-like_circles/hhr_all_270322+twister-P1.fa /Users/puravgupta/Downloads/viroid-like_circles/hhr_all_270322+twister-P1.id90.fa /Users/puravgupta/Downloads/viroid-like_circles/hhr_all_270322.fa /Users/puravgupta/Downloads/viroid-like_circles/hhr_all_270322.id90.fa /Users/puravgupta/Downloads/viroid-like_circles/new_hhr7+new_vs5.fa /Users/puravgupta/Downloads/viroid-like_circles/new_hhr7+new_vs5.id90.fa /Users/puravgupta/Downloads/viroid-like_circles/new_hhr7+twister-P1.fa /Users/puravgupta/Downloads/viroid-like_circles/new_hhr7+twister-P1.id90.fa /Users/puravgupta/Downloads/viroid-like_circles/new_hhr7.fa /Users/puravgupta/Downloads/viroid-like_circles/new_hhr7.id90.fa /Users/puravgupta/Downloads/viroid-like_circles/new_vs5+twister-P1.fa /Users/puravgupta/Downloads/viroid-like_circles/new_vs5+twister-P1.id90.fa /Users/puravgupta/Downloads/viroid-like_circles/new_vs5.fa /Users/puravgupta/Downloads/viroid-like_circles/new_vs5.id90.fa /Users/puravgupta/Downloads/viroid-like_circles/twister-P1.fa /Users/puravgupta/Downloads/viroid-like_circles/twister-P1.id90.fa > all_combined.fasta"
   ]
  },
  {
   "cell_type": "code",
   "execution_count": null,
   "id": "7d7db346",
   "metadata": {},
   "outputs": [],
   "source": [
    "cmcalibrate --cpu 8 dvr5.cm"
   ]
  },
  {
   "cell_type": "markdown",
   "id": "48dde2ad",
   "metadata": {},
   "source": [
    "### cmsearch All models against all unique circular like RNA"
   ]
  },
  {
   "cell_type": "code",
   "execution_count": null,
   "id": "640777c7",
   "metadata": {},
   "outputs": [],
   "source": [
    "cmsearch --cpu 64 -o cmsearch_dvr5.txt --tblout tblout_cmsearch --max dvr5.cm all_combined.fasta"
   ]
  },
  {
   "cell_type": "markdown",
   "id": "153fbed1",
   "metadata": {},
   "source": [
    "### cmsearch ONLY DVR4.cm against all unique circular like RNA"
   ]
  },
  {
   "cell_type": "code",
   "execution_count": null,
   "id": "a06e2518",
   "metadata": {
    "vscode": {
     "languageId": "powershell"
    }
   },
   "outputs": [],
   "source": [
    "cmsearch --cpu 64 -o cmsearch_dvr4.txt --tblout tblout_dvr4.tsv --max DVR4.cm all_combined.fasta"
   ]
  },
  {
   "cell_type": "markdown",
   "id": "145ec685-25a6-4959-91e3-2bb491906320",
   "metadata": {},
   "source": [
    "## Ribocentre download and cm model generation"
   ]
  },
  {
   "cell_type": "markdown",
   "id": "05dd58b2-b406-41ac-b943-7a98cbc0a3f5",
   "metadata": {},
   "source": [
    "Downloaded ribocentre sequences from here https://ftp.ebi.ac.uk/pub/databases/RNAcentral/current_release/sequences/by-database/ribocentre.fasta"
   ]
  },
  {
   "cell_type": "markdown",
   "id": "45cb8d78-c667-4f47-bfc7-d865a6f89959",
   "metadata": {},
   "source": [
    "\"Ribocentre is designed to contain comprehensive information of all natural ribozymes.\"\n",
    "\n",
    "\"The Ribocentre is a comprehensive natural ribozyme database of 16 886 sequences from 21 ribozyme families\"\n",
    "https://academic.oup.com/nar/article/51/D1/D262/6731740"
   ]
  },
  {
   "cell_type": "code",
   "execution_count": 1,
   "id": "61a59a9f-4d8e-4be4-aa60-e9d6d4a336f8",
   "metadata": {},
   "outputs": [
    {
     "name": "stdout",
     "output_type": "stream",
     "text": [
      "file              format  type  num_seqs     sum_len  min_len  avg_len  max_len\n",
      "ribocentre.fasta  FASTA   DNA    239,394  21,867,755       28     91.3    1,619\n"
     ]
    }
   ],
   "source": [
    "seqkit stats ribocentre.fasta"
   ]
  },
  {
   "cell_type": "code",
   "execution_count": 2,
   "id": "38676ad5-4767-49d6-8090-62fd0d311301",
   "metadata": {},
   "outputs": [
    {
     "name": "stdout",
     "output_type": "stream",
     "text": [
      ">URS00000019BA_58172 Paenibacillus sp. Guanine sequence\n",
      "CCGCATAAATACGTCTCATTTCGTATATCCTGGACGATAGGGTCTAGGGTTTCTACCGGA\n",
      "AACCGTAAATTTCTAGCTACGAAAAAAATATGCCCCTCG\n",
      ">URS00000034E9_106588 Bacteroides capillosus Group II self-splicing intron ribozyme sequence\n",
      "GAACGCCGGATGCGGTGAAAGTCGCACGTCCGGTGTGAAGTGGGGGAAAATCCGGCGATA\n",
      "ACTTCAAAGGATTACCTATCACTAT\n",
      ">URS00000034E9_1506 Clostridium sp. Group II self-splicing intron ribozyme sequence\n",
      "GAACGCCGGATGCGGTGAAAGTCGCACGTCCGGTGTGAAGTGGGGGAAAATCCGGCGATA\n",
      "ACTTCAAAGGATTACCTATCACTAT\n",
      ">URS0000003F66_2382127 Tannerella sp. Group II self-splicing intron ribozyme sequence\n"
     ]
    }
   ],
   "source": [
    "head ribocentre.fasta"
   ]
  },
  {
   "cell_type": "markdown",
   "id": "e7bee0fb-5d7b-43f7-b49f-4b657022dd2c",
   "metadata": {},
   "source": [
    "## Hammerhead Ribozyme search on Ribocentre data"
   ]
  },
  {
   "cell_type": "markdown",
   "id": "6b5f9e92-085d-4643-ba54-6190bdc64621",
   "metadata": {},
   "source": [
    "There is a novel family of hhrbz. Not fitting in type 1,2, or 3"
   ]
  },
  {
   "cell_type": "code",
   "execution_count": null,
   "id": "b6df6a0c-07a3-49aa-b2a4-52f440f5ddfb",
   "metadata": {},
   "outputs": [],
   "source": []
  },
  {
   "cell_type": "markdown",
   "id": "2e934205-9299-4972-b16a-e0685cf42abe",
   "metadata": {},
   "source": [
    "Type 3 are the novel rare ones that Marcos has sent me."
   ]
  },
  {
   "cell_type": "code",
   "execution_count": null,
   "id": "ddfa34f8-8229-4665-ba9c-94ce0d05800f",
   "metadata": {},
   "outputs": [],
   "source": []
  }
 ],
 "metadata": {
  "kernelspec": {
   "display_name": "Bash",
   "language": "bash",
   "name": "bash"
  },
  "language_info": {
   "codemirror_mode": "shell",
   "file_extension": ".sh",
   "mimetype": "text/x-sh",
   "name": "bash"
  }
 },
 "nbformat": 4,
 "nbformat_minor": 5
}
